{
 "cells": [
  {
   "cell_type": "markdown",
   "id": "bd71ac1d",
   "metadata": {},
   "source": [
    "# NN Project, topic #4: Language identification from a text corpus\n",
    "\n",
    "Students: Shahzaib MUHAMMAD, Adriana NICOARA, Scott TANKARD"
   ]
  },
  {
   "cell_type": "markdown",
   "id": "b631d741",
   "metadata": {},
   "source": [
    "## Our group's topic\n",
    "\n",
    "From: https://arche.univ-lorraine.fr/mod/page/view.php?id=1310565\n",
    "\n",
    "Project 4: Language identification from a text corpus\n",
    "\n",
    "Students: Scott TANKARD, Adriana NICOARA, Shahzaib MUHAMMAD\n",
    "\n",
    "Task: Text classification\n",
    "\n",
    "Model: Feedforward neural network\n",
    "\n",
    "Dataset: https://www.kaggle.com/zarajamshaid/language-identification-datasst\n",
    "\n",
    "Hint: As a preprocessing step, you should transforms the sentences into trigrams at the character level (more details at: https://towardsdatascience.com/deep-neural-network-language-identification-ae1c158f6a7d)"
   ]
  },
  {
   "cell_type": "markdown",
   "id": "3e9d8f63",
   "metadata": {},
   "source": [
    "## General project instructions\n",
    "\n",
    "From: https://arche.univ-lorraine.fr/mod/page/view.php?id=1301340\n",
    "\n",
    "General project instructions\n",
    "\n",
    "Project structure\n",
    "\n",
    "Each project follows the same overall structure:\n",
    "\n",
    "    Download the data and preprocess it as required for the given task (if needed).\n",
    "    \n",
    "    Write a Dataset class for creating the train and test datasets (and corresponding dataloaders).\n",
    "    \n",
    "    Define the neural network model.\n",
    "    \n",
    "    Define the hyperparameters to create an instance of the model (e.g., hidden space size, number of convolution kernels...) as well as the parameters required to train neural network (e.g., learning rate).\n",
    "    \n",
    "    Write the training loop for training the model.\n",
    "    \n",
    "    Evaluate the model on the test data. In this part, it is expected to choose an appropriate evaluation metric based on your task. For instance, for classification task, accuracy should be computed (but you can also search for 'precision' and 'recall').\n",
    "    \n",
    "    Save the trained model parameters, and the obtained results if needed.\n",
    "\n",
    "\n",
    "Deliverables\n",
    "\n",
    "The project should be written using Pytorch (and not Keras/Tensorflow or any other python deep learning framework). You're expected to send a zip file containing:\n",
    "\n",
    "    A python file implementing steps 1 to 7. This can be either a jupyter notebook or a .py script. A single file is preferred, but you can use several files if that's your style, as long as your main executable script is clearly indicated (for instance it's named 'main.py').\n",
    "    \n",
    "    The obtained results as extra files (e.g., the trained model parameters, a figure with the training loss / validation metric over epochs, a graph comparing different architectures if you want to play arround with it, etc.)\n",
    "\n",
    "Your code should be commented in order to clarify implementation details, and desciption about the inputs and outputs of functions.\n",
    "\n",
    "Note: There is no need to send the dataset, since I will download it and run your scripts directly. Therefore, make sure that you do not transform/change the raw data, and if there is some preprocessing involved, include it in your python file(s).\n",
    "\n",
    "\n",
    "General Hints\n",
    "\n",
    "    The tasks corresponding to these projects have been extensively studied. Don't hesitate to search online for more information (either tutorials or research papers, even pieces of code if you can adapt it).\n",
    "    \n",
    "    Some datasets are very large. Therefore, you don't need to use all the data, but instead you can extract a subset of it (for instance, only a few languages for language identification, only a few images/classes for image recognition etc.) to have a lighter dataset / model / training procedure.\n",
    "    \n",
    "    Some datasets are provided with a train / test split, but not always. Either way, you can create your own split (a good rule of thumb can be 80% training and 20 % testing).\n",
    "    \n",
    "    It is strongly advised to use validation in order to monitor training (see 'bonus work' in lab 2.2). You can use part of the training data (e.g., 10%) as a validation set.\n",
    "    \n",
    "    It is good practice to start with a light model (very few layers/parameters) and dataset (subset of your whole dataset) for prototyping. The performance won't be very good, but it's useful to check if there are any error in the train/test procedure. Once everything runs smoothly, you can increase the size of the model and use more data.\n",
    "    \n",
    "    If your project includes convolutional or recurrent neural networks, don't wait the corresponding lab: you can already start working on it (you can basically do everything, just using a 'dummy' MLP model instead of a CNN/RNN).\n",
    "\n",
    "Modifié le: vendredi 21 octobre 2022, 12:46"
   ]
  },
  {
   "cell_type": "code",
   "execution_count": null,
   "id": "a60401e8",
   "metadata": {
    "ExecuteTime": {
     "end_time": "2023-02-14T14:07:51.589404Z",
     "start_time": "2023-02-14T14:07:49.932531Z"
    }
   },
   "outputs": [],
   "source": [
    "import os\n",
    "import random\n",
    "\n",
    "import torch\n",
    "\n",
    "# import torchvision\n",
    "import torch.nn as nn\n",
    "\n",
    "import pandas as pd\n",
    "\n",
    "from sklearn.model_selection import train_test_split\n",
    "from sklearn.feature_extraction.text import CountVectorizer\n",
    "from sklearn import preprocessing\n",
    "from sklearn.preprocessing import MinMaxScaler\n",
    "\n",
    "from sklearn.metrics import accuracy_score, confusion_matrix, ConfusionMatrixDisplay\n",
    "\n",
    "import seaborn as sns\n",
    "import matplotlib.pyplot as plt\n",
    "import numpy as np\n",
    "\n",
    "from torch.utils.data import Dataset, DataLoader, random_split, Subset\n",
    "\n",
    "# from skimage import io, transform\n",
    "#from torch.utils.data import DataLoader, random_split, Subset\n",
    "import copy\n"
   ]
  },
  {
   "cell_type": "code",
   "execution_count": null,
   "id": "c7797bb5",
   "metadata": {
    "ExecuteTime": {
     "end_time": "2023-02-14T14:07:51.596172Z",
     "start_time": "2023-02-14T14:07:51.593567Z"
    }
   },
   "outputs": [],
   "source": [
    "# CONSTANTS:\n",
    "filterLanguage = True  # Either Filter the dataset or not.\n",
    "\n",
    "LANG_FILTER_LIST = [\n",
    "        \"Estonian\",\n",
    "        \"Swedish\",\n",
    "        \"Indonesian\",\n",
    "        \"Turkish\",\n",
    "        \"French\",\n",
    "        \"Romanian\",\n",
    "        \"English\",\n",
    "]"
   ]
  },
  {
   "cell_type": "code",
   "execution_count": null,
   "id": "7a3fb448",
   "metadata": {
    "ExecuteTime": {
     "end_time": "2023-02-14T14:07:51.609282Z",
     "start_time": "2023-02-14T14:07:51.597713Z"
    }
   },
   "outputs": [],
   "source": [
    "# STEP 1: Download the data and preprocess it as required for the given task (if needed).\n",
    "#########"
   ]
  },
  {
   "cell_type": "code",
   "execution_count": null,
   "id": "7c31d806",
   "metadata": {
    "ExecuteTime": {
     "end_time": "2023-02-14T14:07:51.796028Z",
     "start_time": "2023-02-14T14:07:51.611513Z"
    }
   },
   "outputs": [],
   "source": [
    "data = pd.read_csv(\"./dataset.csv\")\n",
    "data.info()"
   ]
  },
  {
   "cell_type": "code",
   "execution_count": null,
   "id": "0e57db9b",
   "metadata": {
    "ExecuteTime": {
     "end_time": "2023-02-14T14:07:51.806328Z",
     "start_time": "2023-02-14T14:07:51.797747Z"
    }
   },
   "outputs": [],
   "source": [
    "data.head(10)"
   ]
  },
  {
   "cell_type": "code",
   "execution_count": null,
   "id": "a60848ce",
   "metadata": {
    "ExecuteTime": {
     "end_time": "2023-02-14T14:07:51.821932Z",
     "start_time": "2023-02-14T14:07:51.808176Z"
    }
   },
   "outputs": [],
   "source": [
    "unique_lang = data[\"language\"].unique()\n",
    "print(unique_lang)\n",
    "print(\"Number of unique languages: \", len(unique_lang))"
   ]
  },
  {
   "cell_type": "markdown",
   "id": "dc22b2cc",
   "metadata": {},
   "source": [
    "We choose 7 languages to work with:"
   ]
  },
  {
   "cell_type": "code",
   "execution_count": null,
   "id": "93bcece2",
   "metadata": {
    "ExecuteTime": {
     "end_time": "2023-02-14T14:07:51.828841Z",
     "start_time": "2023-02-14T14:07:51.823948Z"
    }
   },
   "outputs": [],
   "source": [
    "print(f'{data.shape=}')"
   ]
  },
  {
   "cell_type": "code",
   "execution_count": null,
   "id": "9840c0d2",
   "metadata": {
    "ExecuteTime": {
     "end_time": "2023-02-14T14:07:51.866288Z",
     "start_time": "2023-02-14T14:07:51.831086Z"
    }
   },
   "outputs": [],
   "source": [
    "data_trim = pd.DataFrame(columns=[\"Text\", \"language\"])\n",
    "lang = None\n",
    "if filterLanguage:\n",
    "    lang = LANG_FILTER_LIST\n",
    "    data_trim = pd.DataFrame(columns=[\"Text\", \"language\"])\n",
    "    for l in lang:\n",
    "        lang_trim = data[data[\"language\"] == l].sample(1000, random_state=100)\n",
    "        data_trim = data_trim.append(lang_trim)\n",
    "\n",
    "else:\n",
    "    lang = data[\"language\"].unique()\n",
    "    data_trim = data\n",
    "\n",
    "print(f'{data_trim.shape=}')"
   ]
  },
  {
   "cell_type": "code",
   "execution_count": null,
   "id": "84d1ff64",
   "metadata": {
    "ExecuteTime": {
     "end_time": "2023-02-14T14:07:51.876714Z",
     "start_time": "2023-02-14T14:07:51.868249Z"
    }
   },
   "outputs": [],
   "source": [
    "# We will need this later for output_size\n",
    "global num_languages\n",
    "num_languages = len(lang)\n",
    "print(num_languages)"
   ]
  },
  {
   "cell_type": "code",
   "execution_count": null,
   "id": "8a749acc",
   "metadata": {
    "ExecuteTime": {
     "end_time": "2023-02-14T14:07:51.884910Z",
     "start_time": "2023-02-14T14:07:51.881296Z"
    }
   },
   "outputs": [],
   "source": [
    "# STEP 1B: Write a Dataset class for creating the train and test datasets.\n",
    "#########"
   ]
  },
  {
   "cell_type": "code",
   "execution_count": null,
   "id": "a01d3492",
   "metadata": {
    "ExecuteTime": {
     "end_time": "2023-02-14T14:07:51.894640Z",
     "start_time": "2023-02-14T14:07:51.888397Z"
    }
   },
   "outputs": [],
   "source": [
    "def reset_indexes(dataframes: list):\n",
    "    \"\"\"Shorthand which allows to reset indexes for multiple Pandas dataframes like so:\n",
    "    reset_indexes([X_train, X_test, y_train, y_test])\"\"\"\n",
    "    for df in dataframes:\n",
    "        df.reset_index(drop=True, inplace=True)"
   ]
  },
  {
   "cell_type": "code",
   "execution_count": null,
   "id": "19b3b7be",
   "metadata": {
    "ExecuteTime": {
     "end_time": "2023-02-14T14:07:51.903903Z",
     "start_time": "2023-02-14T14:07:51.898498Z"
    }
   },
   "outputs": [],
   "source": [
    "def get_trigrams(corpus, n_feat=200):\n",
    "    \"\"\"\n",
    "    Returns a list of the N most common character trigrams from a list of sentences\n",
    "    params\n",
    "    ------------\n",
    "        corpus: list of strings\n",
    "        n_feat: integer\n",
    "    \"\"\"\n",
    "    # fit the n-gram model\n",
    "    vectorizer = CountVectorizer(\n",
    "        analyzer=\"char_wb\", ngram_range=(3, 3), max_features=n_feat\n",
    "    )\n",
    "\n",
    "    X = vectorizer.fit_transform(corpus)\n",
    "\n",
    "    # Get model feature names\n",
    "    feature_names = vectorizer.get_feature_names()\n",
    "    return feature_names"
   ]
  },
  {
   "cell_type": "code",
   "execution_count": null,
   "id": "cc003fe1",
   "metadata": {
    "ExecuteTime": {
     "end_time": "2023-02-14T14:07:51.925775Z",
     "start_time": "2023-02-14T14:07:51.909223Z"
    }
   },
   "outputs": [],
   "source": [
    "X = data_trim[\"Text\"]\n",
    "y = data_trim[\"language\"]\n",
    "\n",
    "#encoded labels\n",
    "le = preprocessing.LabelEncoder()\n",
    "\n",
    "labels = list(y)\n",
    "le.fit(labels)\n",
    "\n",
    "\n",
    "#train test val split 80% 10% 10%\n",
    "X_train, X_test, y_train, y_test = train_test_split(\n",
    "    X, y, test_size=0.20, random_state=42, stratify=y,\n",
    ")\n",
    "\n",
    "reset_indexes([X_train, X_test, y_train, y_test])\n",
    "\n",
    "X_val, X_test, y_val, y_test = train_test_split(\n",
    "    X_test, y_test, test_size=0.50, random_state=42, stratify= y_test,\n",
    ")\n",
    "\n",
    "reset_indexes([X_val, X_test, y_val, y_test])\n",
    "\n",
    "train_data = pd.concat([X_train, y_train], axis=1)\n",
    "test_data = pd.concat([X_test, y_test], axis=1)\n",
    "val_data = pd.concat([X_val, y_val], axis=1)"
   ]
  },
  {
   "cell_type": "code",
   "execution_count": null,
   "id": "37241ff1",
   "metadata": {
    "ExecuteTime": {
     "end_time": "2023-02-14T14:07:52.786975Z",
     "start_time": "2023-02-14T14:07:51.930392Z"
    }
   },
   "outputs": [],
   "source": [
    "# keeping most frequent trigrams (200 by default)\n",
    "\n",
    "features = {} # used to calculate overlapping trigrams\n",
    "features_set = set()\n",
    "\n",
    "for l in lang:\n",
    "    # get corpus filtered by language\n",
    "    corpus = train_data[train_data.language == l][\"Text\"]\n",
    "    # get 200 most frequent trigrams\n",
    "    trigrams = get_trigrams(corpus)\n",
    "\n",
    "    # add to dict and set\n",
    "    features[l] = trigrams\n",
    "    features_set.update(trigrams)\n",
    "\n",
    "# create vocabulary list using feature set\n",
    "vocab = dict()\n",
    "for i, f in enumerate(features_set):\n",
    "    vocab[f] = i\n",
    "\n",
    "\n",
    "# We will need this later for input_size\n",
    "global num_trigram_features\n",
    "num_trigram_features = len(vocab)\n",
    "print(f'{num_trigram_features=}')"
   ]
  },
  {
   "cell_type": "code",
   "execution_count": null,
   "id": "767b2927",
   "metadata": {
    "ExecuteTime": {
     "end_time": "2023-02-14T14:07:52.794905Z",
     "start_time": "2023-02-14T14:07:52.790445Z"
    }
   },
   "outputs": [],
   "source": [
    "def vectorize_data(dataset, vectorizer):\n",
    "    # create feature matrix for training set\n",
    "    X_vectorized = vectorizer.transform(dataset)\n",
    "    feature_names = vectorizer.get_feature_names()\n",
    "    features = pd.DataFrame(data=X_vectorized.toarray(), columns=feature_names)\n",
    "    return features, feature_names"
   ]
  },
  {
   "cell_type": "code",
   "execution_count": 203,
   "id": "78d0af69",
   "metadata": {
    "ExecuteTime": {
     "end_time": "2023-02-14T14:07:54.455765Z",
     "start_time": "2023-02-14T14:07:52.798228Z"
    }
   },
   "outputs": [
    {
     "name": "stderr",
     "output_type": "stream",
     "text": [
      "c:\\ProgramData\\Anaconda3\\envs\\IDMC\\lib\\site-packages\\sklearn\\utils\\deprecation.py:87: FutureWarning: Function get_feature_names is deprecated; get_feature_names is deprecated in 1.0 and will be removed in 1.2. Please use get_feature_names_out instead.\n",
      "  warnings.warn(msg, category=FutureWarning)\n",
      "c:\\ProgramData\\Anaconda3\\envs\\IDMC\\lib\\site-packages\\sklearn\\utils\\deprecation.py:87: FutureWarning: Function get_feature_names is deprecated; get_feature_names is deprecated in 1.0 and will be removed in 1.2. Please use get_feature_names_out instead.\n",
      "  warnings.warn(msg, category=FutureWarning)\n"
     ]
    }
   ],
   "source": [
    "# train count vectoriser using vocabulary\n",
    "vectorizer = CountVectorizer(analyzer=\"char_wb\", ngram_range=(3, 3), vocabulary=vocab)\n",
    "vectorizer = vectorizer.fit(train_data[\"Text\"])\n",
    "\n",
    "trainX_vec, feature_names  = vectorize_data(train_data[\"Text\"], vectorizer)\n",
    "testX_vec, _ = vectorize_data(test_data[\"Text\"], vectorizer)\n",
    "valX_vec, _  = vectorize_data(val_data[\"Text\"], vectorizer)"
   ]
  },
  {
   "cell_type": "code",
   "execution_count": 204,
   "id": "9215be2b",
   "metadata": {
    "ExecuteTime": {
     "end_time": "2023-02-14T14:07:54.547882Z",
     "start_time": "2023-02-14T14:07:54.457619Z"
    }
   },
   "outputs": [],
   "source": [
    "# Scale feature matrix\n",
    "\n",
    "# https://scikit-learn.org/stable/modules/generated/sklearn.preprocessing.MinMaxScaler.html#\n",
    "\n",
    "scaler = MinMaxScaler()\n",
    "scaler = scaler.fit(trainX_vec)\n",
    "trainX_scaled =  pd.DataFrame(scaler.transform(trainX_vec))\n",
    "testX_scaled =  pd.DataFrame(scaler.transform(testX_vec))\n",
    "valX_scaled =  pd.DataFrame(scaler.transform(valX_vec))"
   ]
  },
  {
   "cell_type": "code",
   "execution_count": 205,
   "id": "b3503598",
   "metadata": {
    "ExecuteTime": {
     "end_time": "2023-02-14T14:07:54.558346Z",
     "start_time": "2023-02-14T14:07:54.549367Z"
    }
   },
   "outputs": [],
   "source": [
    "trainX_scaled[\"lang\"] =  le.transform(train_data[\"language\"]).tolist()\n",
    "testX_scaled[\"lang\"] =  le.transform(test_data[\"language\"]).tolist()\n",
    "valX_scaled[\"lang\"] =  le.transform(val_data[\"language\"]).tolist()\n",
    "\n",
    "train_scaled = trainX_scaled\n",
    "test_scaled = testX_scaled\n",
    "val_scaled = valX_scaled"
   ]
  },
  {
   "cell_type": "markdown",
   "id": "6549261c",
   "metadata": {},
   "source": [
    "Matrix data that will be used for training: train_feat"
   ]
  },
  {
   "cell_type": "markdown",
   "id": "8f0ab01f",
   "metadata": {},
   "source": [
    "Heatmap representing the number of common trigrams between languages"
   ]
  },
  {
   "cell_type": "code",
   "execution_count": 206,
   "id": "76ad5861",
   "metadata": {
    "ExecuteTime": {
     "end_time": "2023-02-14T14:07:54.895053Z",
     "start_time": "2023-02-14T14:07:54.560244Z"
    }
   },
   "outputs": [
    {
     "data": {
      "image/png": "[encoded data removed]",
      "text/plain": [
       "<Figure size 1000x1000 with 1 Axes>"
      ]
     },
     "metadata": {},
     "output_type": "display_data"
    }
   ],
   "source": [
    "# Calculate number of shared trigrams\n",
    "labels = lang\n",
    "mat = []\n",
    "for i in labels:\n",
    "    vec = []\n",
    "    for j in labels:\n",
    "        l1 = features[i]\n",
    "        l2 = features[j]\n",
    "        intersec = [l for l in l1 if l in l2]\n",
    "        # print(intersec)\n",
    "        vec.append(len(intersec))\n",
    "    mat.append(vec)\n",
    "\n",
    "# Plot heatmap\n",
    "conf_matrix_df = pd.DataFrame(mat, columns=lang, index=lang)\n",
    "# Create a mask\n",
    "mask = np.triu(np.ones_like(conf_matrix_df, dtype=bool))\n",
    "\n",
    "plt.figure(figsize=(10, 10), facecolor=\"w\", edgecolor=\"k\")\n",
    "# sns.set(font_scale=1.5)\n",
    "sns.heatmap(\n",
    "    conf_matrix_df,\n",
    "    cmap=\"coolwarm\",\n",
    "    annot=True,\n",
    "    fmt=\".5g\",\n",
    "    cbar=False,\n",
    "    mask=mask,\n",
    ")\n",
    "\n",
    "plt.savefig(\"./feat_explore.png\", format=\"png\", dpi=150)"
   ]
  },
  {
   "cell_type": "code",
   "execution_count": 207,
   "id": "0bca6bf2",
   "metadata": {
    "ExecuteTime": {
     "end_time": "2023-02-14T14:07:54.908055Z",
     "start_time": "2023-02-14T14:07:54.899296Z"
    }
   },
   "outputs": [],
   "source": [
    "# STEP 2: Write a Dataset class for creating the train and test datasets (and corresponding dataloaders).\n",
    "#########\n",
    "\n",
    "\n",
    "batch_size = 8"
   ]
  },
  {
   "cell_type": "code",
   "execution_count": 208,
   "id": "ae5f8b75",
   "metadata": {
    "ExecuteTime": {
     "end_time": "2023-02-14T14:07:54.918484Z",
     "start_time": "2023-02-14T14:07:54.911934Z"
    }
   },
   "outputs": [],
   "source": [
    "# https://discuss.pytorch.org/t/typeerror-batch-must-contain-tensors-numbers-dicts-or-lists-found-object/14665/3\n",
    "\n",
    "# https://stackoverflow.com/questions/58612453/keyerror-when-enumerating-over-dataloader\n",
    "class PandasDataset(Dataset):\n",
    "    def __init__(self, dataframe):\n",
    "        self.dataframe = dataframe\n",
    "\n",
    "    def __len__(self):\n",
    "        return len(self.dataframe)\n",
    "\n",
    "    def __getitem__(self, index):\n",
    "        thing = self.dataframe.iloc[index]\n",
    "\n",
    "        t1 = thing.drop(\"lang\").astype(np.float32)\n",
    "        t1 = t1.tolist()\n",
    "        t1 = torch.tensor(t1)\n",
    "\n",
    "        t2 = thing[\"lang\"].astype(np.int64)\n",
    "\n",
    "        thing = [t1, t2]\n",
    "        # print(thing)\n",
    "        return thing"
   ]
  },
  {
   "cell_type": "code",
   "execution_count": 209,
   "id": "e9c71077",
   "metadata": {
    "ExecuteTime": {
     "end_time": "2023-02-14T14:07:54.928446Z",
     "start_time": "2023-02-14T14:07:54.922303Z"
    }
   },
   "outputs": [],
   "source": [
    "train_dataloader = DataLoader(\n",
    "    PandasDataset(train_scaled), shuffle=True, batch_size=batch_size\n",
    ")\n",
    "val_dataloader = DataLoader(PandasDataset(val_scaled), batch_size=batch_size)\n",
    "\n",
    "test_dataloader = DataLoader(\n",
    "    PandasDataset(test_scaled), \n",
    "    #shuffle=True, \n",
    "    batch_size=batch_size\n",
    ")"
   ]
  },
  {
   "cell_type": "code",
   "execution_count": 210,
   "id": "694e28e5",
   "metadata": {
    "ExecuteTime": {
     "end_time": "2023-02-14T14:07:54.942693Z",
     "start_time": "2023-02-14T14:07:54.932637Z"
    }
   },
   "outputs": [],
   "source": [
    "# STEP 3: Define the neural network model.\n",
    "#########\n",
    "\n",
    "# See: https://towardsdatascience.com/deep-neural-network-language-identification-ae1c158f6a7d\n",
    "\n",
    "# loss='categorical_crossentropy',\n",
    "# optimizer='adam',\n",
    "# activation fns: relu x3, softmax x1\n",
    "\n",
    "# lab3/lab3_mlp_classif.ipynb\n",
    "# 237:    \"However, when training a classification network, we generally use the [Cross Entropy](https://pytorch.org/docs/stable/generated/torch.nn.CrossEntropyLoss.html#torch.nn.CrossEntropyLoss) loss function, which alleviates these two issues. This loss is optimized for handling true labels instead of true probabilities per class, so you don't have to worry about it. Besides, it will automatically apply a [Softmax](https://pytorch.org/docs/stable/generated/torch.nn.Softmax.html) non-linearity to the predicted outputs, in order to normalize them as probabilities per class.\\n\",\n",
    "\n",
    "# https://adamoudad.github.io/posts/keras_torch_comparison/syntax/\n",
    "\n",
    "\n",
    "class ClassifModel(nn.Module):\n",
    "    def __init__(\n",
    "        self,\n",
    "        input_size,\n",
    "        output_size,\n",
    "        hidden_size=20,\n",
    "        act_fn=nn.ReLU(),\n",
    "        n_hidden_layers=1,\n",
    "    ):\n",
    "        super(ClassifModel, self).__init__()\n",
    "\n",
    "        self.input_layer = nn.Sequential(nn.Linear(input_size, hidden_size), act_fn)\n",
    "\n",
    "        self.hiddens = nn.ModuleList([])\n",
    "        for i in range(n_hidden_layers):\n",
    "            self.hiddens.append(\n",
    "                nn.Sequential(nn.Linear(hidden_size, hidden_size), act_fn)\n",
    "            )\n",
    "\n",
    "        alt_hidden_size = 30\n",
    "        # This one is not in the hiddens loop because it has a different out_features size\n",
    "        self.hidden2 = nn.Sequential(nn.Linear(hidden_size, alt_hidden_size), act_fn)\n",
    "\n",
    "        # self.output_layer = nn.LazyLinear(output_size)\n",
    "        self.output_layer = nn.Linear(alt_hidden_size, output_size)\n",
    "\n",
    "        # NOTE: Unlike keras, we do not need a final softmax fn at the outputs,\n",
    "        # because it's not necessary with torch.nn.CrossEntropyLoss.\n",
    "        # https://pytorch.org/docs/stable/generated/torch.nn.CrossEntropyLoss.html#\n",
    "        # https://discuss.pytorch.org/t/do-i-need-to-use-softmax-before-nn-crossentropyloss/16739\n",
    "\n",
    "    def forward(self, x):\n",
    "        x = self.input_layer(x)\n",
    "\n",
    "        if len(self.hiddens) != 0:\n",
    "            for i, l in enumerate(self.hiddens):\n",
    "                x = self.hiddens[i](x)\n",
    "\n",
    "        x = self.hidden2(x)\n",
    "        out = self.output_layer(x)\n",
    "        return out\n",
    "\n",
    "\n",
    "def test_model_definition():\n",
    "    INPUT_SIZE = 663\n",
    "    output_size = num_languages  # e.g. 7 or 22\n",
    "    model = ClassifModel(INPUT_SIZE, output_size)\n",
    "    return model\n",
    "\n",
    "\n",
    "# test_model_definition()"
   ]
  },
  {
   "cell_type": "code",
   "execution_count": 211,
   "id": "3d0979fe",
   "metadata": {
    "ExecuteTime": {
     "end_time": "2023-02-14T14:07:54.951025Z",
     "start_time": "2023-02-14T14:07:54.945931Z"
    }
   },
   "outputs": [],
   "source": [
    "# STEP 4: Define the hyperparameters to create an instance of the model\n",
    "# (e.g., hidden space size, number of convolution kernels...)\n",
    "# as well as the parameters required to train neural network (e.g., learning rate).\n",
    "#########\n",
    "\n",
    "# The Conor O'Sullivan article uses adam from Keras with default learning rate,\n",
    "# and default there is 0.001: https://keras.io/api/optimizers/adam/\n",
    "learning_rate = 0.001\n",
    "\n",
    "# c.f. lab4.2\n",
    "optimizer = torch.optim.Adam  # (model_tr.parameters(), lr=learning_rate)"
   ]
  },
  {
   "cell_type": "code",
   "execution_count": 239,
   "id": "5e081293",
   "metadata": {
    "ExecuteTime": {
     "end_time": "2023-02-14T14:07:54.961543Z",
     "start_time": "2023-02-14T14:07:54.954555Z"
    }
   },
   "outputs": [],
   "source": [
    "# STEP 5: Write the training loop for training the model.\n",
    "#########\n",
    "\n",
    "\n",
    "def eval_mlp_classifier(model, eval_dataloader, loss_fn, confusionMatrix = False):\n",
    "    \"\"\"Evaluation function: similar to the training loop, except we don't need to compute any gradient / backprop.\n",
    "\n",
    "    This function based on function from lab 4.1.\"\"\"\n",
    "    # Set the model in 'evaluation' mode (this disables some layers (batch norm, dropout...) which are not needed when testing)\n",
    "    model.eval()\n",
    "    # In evaluation phase, we don't need to compute gradients (for memory efficiency)\n",
    "    with torch.no_grad():\n",
    "        # initialize the total and correct number of labels to compute the accuracy\n",
    "        correct_labels = 0\n",
    "        total_labels = 0\n",
    "        loss_eval = 0\n",
    "        batch_count = 0\n",
    "        lablesList = []\n",
    "        predictionsList = []\n",
    "        # Iterate over the dataset using the dataloader\n",
    "        for images, labels in eval_dataloader:\n",
    "            lablesList.extend(labels.tolist())\n",
    "            batch_count += 1\n",
    "            # Get the predicted labels\n",
    "            y_predicted = model(images)\n",
    "\n",
    "            # To get the predicted labels, we need to get the max over all possible classes\n",
    "            _, label_predicted = torch.max(y_predicted.data, 1)\n",
    "\n",
    "            loss = loss_fn(y_predicted, labels)\n",
    "            # Record the loss\n",
    "            loss_eval += loss.item()\n",
    "\n",
    "            # Compute accuracy: count the total number of samples, and the correct labels (compare the true and predicted labels)\n",
    "            total_labels += labels.size(0)\n",
    "            correct_labels += (label_predicted == labels).sum().item()\n",
    "            predictionsList.extend(label_predicted.tolist())\n",
    "\n",
    "    if(confusionMatrix):\n",
    "        labelsEncoding =  pd.Series(lablesList).drop_duplicates().tolist()\n",
    "        cm = confusion_matrix(lablesList, predictionsList, labels=labelsEncoding)\n",
    "        disp = ConfusionMatrixDisplay(confusion_matrix=cm, display_labels=le.classes_)\n",
    "        disp.plot()\n",
    "        plt.show()\n",
    "\n",
    "    accuracy = 100 * correct_labels / total_labels\n",
    "    return accuracy, loss_eval/batch_count\n",
    "\n",
    "\n",
    "def plt_list_over_epochs(\n",
    "    losses: list, evals: list,  num_epochs = 10\n",
    "):\n",
    "    \n",
    "    plt.figure(figsize=(8,4))\n",
    "    plt.subplot(1, 2, 1)\n",
    "    plt.plot(torch.arange(num_epochs)+1, losses)\n",
    "    plt.xlabel('Epochs')\n",
    "    plt.title('Training')\n",
    "    plt.subplot(1, 2, 2)\n",
    "    plt.plot(torch.arange(num_epochs)+1, evals)\n",
    "    plt.xlabel('Epochs')\n",
    "    plt.title('Validation')\n",
    "    plt.tight_layout()\n",
    "    plt.show()"
   ]
  },
  {
   "cell_type": "code",
   "execution_count": 213,
   "id": "b4183f60",
   "metadata": {
    "ExecuteTime": {
     "end_time": "2023-02-14T14:07:54.974840Z",
     "start_time": "2023-02-14T14:07:54.965253Z"
    }
   },
   "outputs": [],
   "source": [
    "#######################\n",
    "def train_val_classifier(\n",
    "    model,\n",
    "    train_dataloader,\n",
    "    eval_dataloader,\n",
    "    num_epochs,\n",
    "    loss_fn,\n",
    "    learning_rate,\n",
    "    verbose=True,\n",
    "):\n",
    "    \"\"\"Training function with validation.\n",
    "\n",
    "    (Similar to lab 4.1 etc).\n",
    "    - at the end of each epoch, compute the accuracy of the model on the validation subset using the provided evaluation function\n",
    "    - then, check if this accuracy is increasing: if so, then we save the current model as the 'model_opt'.\n",
    "    - return as output the trained model, the training loss, and the validation accuracy\n",
    "\n",
    "    Important NOTE: if we compute the validation loss, it should decrease.\n",
    "    If we compute accuracy, it should increase.\n",
    "    \"\"\"\n",
    "\n",
    "    # Make a copy of the model (avoid changing the model outside this function)\n",
    "    model_tr = copy.deepcopy(model)\n",
    "    model = None  # for safety\n",
    "    model_tr.train()  # Set the model in 'training' mode\n",
    "\n",
    "    # Define the optimizer\n",
    "    optimizer = torch.optim.Adam(\n",
    "        model_tr.parameters(), lr=learning_rate\n",
    "    )  # Hardcoded for now\n",
    "\n",
    "    # Initialize a list to record the training loss over epochs\n",
    "    loss_all_epochs = []\n",
    "    altLossAllEpochs = []  # Alternate method, loss\n",
    "    evalAllEpochsAcc = []  # list of validation metric (e.g. loss or accuracy)\n",
    "    evalAllEpochsLoss = []\n",
    "    # Training loop\n",
    "    for epoch in range(num_epochs):\n",
    "        # Initialize the training loss for the current epoch\n",
    "        loss_current_epoch = 0\n",
    "        altLCEs = []  # Alternate method\n",
    "\n",
    "        # Iterate over batches using the dataloader\n",
    "        for batch_index, (data, labels) in enumerate(train_dataloader):\n",
    "            # training procedure for each batch...\n",
    "\n",
    "            # Here we would vectorize if necessary (for example for images).\n",
    "            vectorized_batch = data\n",
    "\n",
    "            y = labels  # the prediction targets\n",
    "            y_pred = model_tr(\n",
    "                vectorized_batch\n",
    "            )  # step1, forward pass (calculate predicted labels)\n",
    "\n",
    "            l = loss_fn(y_pred, y)  # step2\n",
    "            optimizer.zero_grad()\n",
    "            l.backward()  # step3, compute the gradients\n",
    "            optimizer.step()  # step4, (?apply gradient descent algorithm?)\n",
    "\n",
    "            # update the loss at the current epoch\n",
    "            loss_current_epoch += l.item()\n",
    "            altLCEs.append(l.item())\n",
    "            nBatchesThisEpoch = batch_index + 1\n",
    "\n",
    "        # At the end of each epoch, record and display the loss over all batches\n",
    "        loss_all_epochs.append(loss_current_epoch)\n",
    "\n",
    "        altLossAvgThisEpoch = sum(altLCEs) / nBatchesThisEpoch\n",
    "        altLossAllEpochs.append(altLossAvgThisEpoch)\n",
    "\n",
    "        # at end of each epoch, compute the validation metric (e.g. accuracy, loss) of the model on validation subset\n",
    "        eval_acc, eval_loss = eval_mlp_classifier(model_tr, eval_dataloader, loss_fn)\n",
    "        evalAllEpochsAcc.append(eval_acc)\n",
    "        evalAllEpochsLoss.append(eval_loss)\n",
    "\n",
    "        if verbose:\n",
    "            msg = \"TRAINING Epoch [{}/{}], loss: {:.4f}, accuracy: {:.4f}\"\n",
    "            print(msg.format(epoch + 1, num_epochs, altLossAvgThisEpoch, eval_acc))\n",
    "\n",
    "        # is eval metric improving? if so, then we save the current model as the 'model_opt'.\n",
    "        if len(evalAllEpochsAcc) == 1:\n",
    "            print(\"only one eval done yet\")\n",
    "            model_opt = model_tr\n",
    "        elif (eval_acc >= max(evalAllEpochsAcc)) and (\n",
    "            eval_acc not in evalAllEpochsAcc[:-1]\n",
    "        ):\n",
    "            # <= min() for \"is LOSS DEcreasing\", or >= max() for \"is accuracy increasing\"\n",
    "            print(\"saving model from epoch {} as new model_opt\".format(epoch + 1))\n",
    "            model_opt = model_tr\n",
    "\n",
    "    return model_opt, altLossAllEpochs, evalAllEpochsAcc, evalAllEpochsLoss"
   ]
  },
  {
   "cell_type": "code",
   "execution_count": 214,
   "id": "632e8537",
   "metadata": {
    "ExecuteTime": {
     "end_time": "2023-02-14T14:09:49.297953Z",
     "start_time": "2023-02-14T14:07:54.979285Z"
    }
   },
   "outputs": [
    {
     "name": "stdout",
     "output_type": "stream",
     "text": [
      "TRAINING Epoch [1/10], loss: 0.4559, accuracy: 98.7143\n",
      "only one eval done yet\n",
      "TRAINING Epoch [2/10], loss: 0.0403, accuracy: 98.8571\n",
      "saving model from epoch 2 as new model_opt\n",
      "TRAINING Epoch [3/10], loss: 0.0198, accuracy: 99.0000\n",
      "saving model from epoch 3 as new model_opt\n",
      "TRAINING Epoch [4/10], loss: 0.0102, accuracy: 98.8571\n",
      "TRAINING Epoch [5/10], loss: 0.0046, accuracy: 98.7143\n",
      "TRAINING Epoch [6/10], loss: 0.0018, accuracy: 98.8571\n",
      "TRAINING Epoch [7/10], loss: 0.0006, accuracy: 98.8571\n",
      "TRAINING Epoch [8/10], loss: 0.0004, accuracy: 98.7143\n",
      "TRAINING Epoch [9/10], loss: 0.0002, accuracy: 98.8571\n",
      "TRAINING Epoch [10/10], loss: 0.0001, accuracy: 98.7143\n"
     ]
    }
   ],
   "source": [
    "# STEP 6: Evaluate the model on the test data.\n",
    "# In this part, it is expected to choose an appropriate evaluation metric based on your task.\n",
    "# For instance, for classification task, accuracy should be computed (but you can also search for 'precision' and 'recall').\n",
    "#########\n",
    "\n",
    "# Execute the training (with validation)\n",
    "\n",
    "LOSS_FN = torch.nn.CrossEntropyLoss\n",
    "OPTIMIZER = torch.optim.Adam\n",
    "# invoked as so: torch.optim.Adam(model_tr.parameters(), lr=learning_rate)\n",
    "# currently this is hardcoded inside train_val_classifier()\n",
    "\n",
    "if True:\n",
    "    batch_size = 8\n",
    "    num_epochs = 10\n",
    "    loss_fn = LOSS_FN()\n",
    "\n",
    "    train_dataloader = train_dataloader\n",
    "    val_dataloader = val_dataloader\n",
    "\n",
    "    input_size = num_trigram_features\n",
    "    output_size = num_languages  # e.g. 7 or 22\n",
    "\n",
    "    model = ClassifModel(input_size, output_size)\n",
    "\n",
    "    \n",
    "      # don't forget to instantiate() the loss fn\n",
    "    learning_rate = learning_rate\n",
    "    optimizer = OPTIMIZER\n",
    "\n",
    "    trained_model, losses, evalsAcc, evalsLoss = train_val_classifier(\n",
    "        model,\n",
    "        train_dataloader,\n",
    "        val_dataloader,\n",
    "        num_epochs,\n",
    "        loss_fn,\n",
    "        learning_rate,\n",
    "        verbose=True,\n",
    "    )"
   ]
  },
  {
   "cell_type": "code",
   "execution_count": 215,
   "id": "a282322e",
   "metadata": {
    "ExecuteTime": {
     "end_time": "2023-02-14T14:09:50.183497Z",
     "start_time": "2023-02-14T14:09:49.302923Z"
    },
    "scrolled": true
   },
   "outputs": [
    {
     "name": "stdout",
     "output_type": "stream",
     "text": [
      "test_accuracy=97.85714285714286, test_loss=0.16844815619773754\n"
     ]
    }
   ],
   "source": [
    "# Finally, execute testing/eval also on the test data...\n",
    "test_accuracy, test_loss  = eval_mlp_classifier(trained_model, test_dataloader, loss_fn)\n",
    "print(f'{test_accuracy=}, {test_loss=}')"
   ]
  },
  {
   "cell_type": "code",
   "execution_count": 216,
   "id": "538488a5",
   "metadata": {
    "ExecuteTime": {
     "end_time": "2023-02-14T14:09:50.338225Z",
     "start_time": "2023-02-14T14:09:50.213541Z"
    }
   },
   "outputs": [
    {
     "data": {
      "image/png": "[encoded data removed]",
      "text/plain": [
       "<Figure size 800x400 with 2 Axes>"
      ]
     },
     "metadata": {},
     "output_type": "display_data"
    }
   ],
   "source": [
    "plt_list_over_epochs(losses, evalsLoss)"
   ]
  },
  {
   "cell_type": "code",
   "execution_count": 217,
   "id": "2e3e2570",
   "metadata": {
    "ExecuteTime": {
     "end_time": "2023-02-14T14:09:50.367907Z",
     "start_time": "2023-02-14T14:09:50.344019Z"
    }
   },
   "outputs": [],
   "source": [
    "# STEP 7: Save the trained model parameters, and the obtained results if needed.\n",
    "#########\n",
    "\n",
    "DEFAULT_MODEL_SAVE_PATH = \"lang_classifier.model.pt\"\n",
    "torch.save(trained_model.state_dict(), DEFAULT_MODEL_SAVE_PATH)"
   ]
  },
  {
   "cell_type": "code",
   "execution_count": 240,
   "id": "732262de",
   "metadata": {
    "ExecuteTime": {
     "end_time": "2023-02-14T14:09:50.367907Z",
     "start_time": "2023-02-14T14:09:50.344019Z"
    }
   },
   "outputs": [
    {
     "name": "stdout",
     "output_type": "stream",
     "text": [
      "[2, 3, 1, 1, 0, 4, 3, 0, 4, 3, 5, 2, 1, 6, 3, 4, 4, 2, 0, 3, 3, 1, 4, 5, 0, 3, 4, 0, 0, 6, 6, 2, 3, 2, 5, 5, 5, 3, 6, 5, 2, 0, 1, 0, 4, 5, 2, 2, 4, 1, 1, 1, 3, 5, 6, 5, 4, 4, 3, 4, 3, 2, 5, 2, 0, 5, 0, 3, 0, 6, 3, 4, 2, 5, 2, 4, 3, 0, 2, 1, 2, 2, 5, 4, 5, 1, 0, 6, 0, 6, 4, 0, 2, 5, 1, 1, 2, 0, 2, 2, 3, 5, 0, 1, 2, 6, 1, 3, 2, 5, 3, 1, 0, 4, 4, 5, 6, 6, 0, 2, 1, 6, 2, 0, 4, 5, 5, 6, 1, 0, 2, 3, 5, 1, 5, 3, 0, 6, 5, 3, 3, 6, 3, 5, 1, 5, 3, 6, 1, 1, 0, 4, 1, 0, 1, 5, 4, 6, 3, 0, 2, 0, 1, 5, 3, 3, 0, 3, 3, 2, 5, 4, 3, 1, 3, 1, 1, 4, 6, 5, 2, 3, 2, 5, 5, 5, 3, 4, 0, 3, 5, 2, 3, 0, 6, 0, 3, 3, 6, 4, 2, 0, 6, 0, 5, 6, 2, 1, 6, 4, 4, 3, 3, 4, 6, 6, 0, 0, 6, 3, 1, 1, 6, 5, 6, 5, 0, 6, 0, 6, 3, 1, 4, 4, 3, 0, 6, 5, 4, 0, 5, 2, 3, 3, 6, 0, 1, 0, 5, 4, 5, 1, 1, 5, 5, 2, 3, 0, 1, 1, 5, 3, 6, 5, 6, 0, 0, 0, 6, 4, 0, 1, 1, 1, 0, 0, 6, 6, 3, 6, 3, 4, 0, 2, 1, 4, 5, 3, 2, 2, 5, 1, 5, 1, 2, 3, 0, 4, 2, 0, 3, 2, 0, 1, 4, 1, 3, 6, 4, 2, 5, 4, 1, 5, 4, 2, 5, 0, 6, 5, 6, 4, 4, 2, 2, 1, 4, 6, 5, 2, 4, 1, 2, 1, 4, 0, 3, 2, 6, 4, 5, 1, 2, 3, 6, 1, 0, 4, 6, 5, 3, 6, 2, 0, 0, 2, 1, 2, 3, 3, 4, 1, 4, 5, 6, 1, 5, 3, 3, 3, 0, 4, 0, 0, 6, 3, 3, 6, 1, 2, 6, 2, 2, 2, 2, 6, 4, 6, 6, 6, 4, 0, 0, 5, 5, 1, 4, 1, 0, 1, 1, 1, 3, 6, 0, 5, 4, 2, 2, 2, 0, 4, 1, 0, 0, 5, 2, 6, 5, 4, 5, 4, 6, 3, 1, 5, 6, 5, 3, 1, 4, 6, 2, 0, 0, 3, 4, 6, 3, 1, 4, 5, 6, 2, 6, 2, 4, 3, 1, 1, 0, 2, 0, 5, 1, 5, 2, 0, 1, 6, 0, 4, 2, 4, 1, 4, 4, 2, 3, 3, 3, 5, 2, 0, 1, 5, 2, 0, 2, 5, 0, 6, 3, 1, 1, 3, 6, 0, 3, 0, 6, 4, 4, 0, 4, 5, 1, 2, 3, 5, 3, 5, 4, 5, 0, 4, 5, 4, 1, 6, 5, 6, 0, 3, 4, 0, 1, 5, 1, 0, 3, 4, 1, 0, 6, 4, 6, 2, 3, 1, 0, 1, 2, 2, 2, 2, 5, 6, 4, 3, 6, 5, 0, 6, 1, 4, 2, 1, 4, 0, 2, 5, 4, 2, 1, 3, 6, 1, 5, 6, 2, 6, 4, 1, 4, 1, 4, 3, 3, 1, 4, 6, 4, 5, 4, 1, 4, 4, 6, 6, 2, 3, 3, 2, 6, 1, 3, 2, 2, 5, 5, 3, 0, 0, 4, 2, 3, 3, 2, 4, 4, 5, 4, 2, 1, 4, 3, 2, 6, 1, 3, 2, 0, 3, 0, 5, 2, 1, 6, 5, 4, 5, 6, 4, 0, 6, 0, 3, 6, 6, 6, 2, 6, 1, 2, 6, 6, 3, 2, 4, 6, 6, 3, 5, 5, 2, 3, 2, 4, 5, 0, 5, 6, 5, 1, 4, 4, 6, 4, 6, 2, 1, 4, 5, 5, 2, 4, 1, 2, 1, 0, 6, 5, 6, 0, 5, 2, 1, 0, 1, 5, 6, 6, 3, 0, 5, 0, 2, 2, 1, 1, 5, 3, 6, 3, 1, 3, 4, 0, 0]\n",
      "[2, 3, 1, 5, 0, 4, 3, 0, 4, 3, 5, 2, 1, 6, 3, 0, 4, 2, 0, 3, 3, 1, 4, 5, 0, 3, 4, 0, 0, 6, 6, 2, 3, 2, 5, 5, 5, 3, 6, 5, 2, 0, 1, 0, 4, 5, 2, 2, 4, 1, 1, 1, 3, 5, 6, 5, 4, 4, 3, 4, 3, 2, 5, 2, 0, 5, 0, 3, 0, 6, 3, 4, 2, 5, 2, 4, 3, 0, 2, 1, 2, 2, 5, 4, 5, 1, 0, 6, 0, 6, 4, 0, 2, 5, 3, 1, 2, 0, 2, 2, 3, 5, 0, 1, 2, 6, 1, 3, 2, 5, 3, 1, 0, 4, 4, 5, 6, 6, 0, 2, 1, 6, 2, 0, 4, 5, 5, 6, 0, 0, 2, 3, 5, 1, 5, 3, 0, 6, 5, 3, 3, 6, 3, 5, 1, 5, 3, 6, 1, 1, 0, 4, 1, 0, 1, 5, 4, 6, 3, 0, 2, 0, 1, 5, 3, 3, 0, 3, 3, 2, 5, 4, 3, 1, 3, 1, 1, 4, 6, 5, 2, 0, 2, 5, 5, 5, 3, 4, 0, 3, 5, 2, 3, 0, 6, 0, 3, 3, 6, 4, 2, 0, 6, 0, 5, 6, 2, 1, 6, 4, 4, 3, 3, 4, 6, 6, 0, 0, 6, 3, 1, 2, 6, 5, 6, 5, 0, 6, 0, 6, 3, 1, 4, 4, 3, 1, 6, 5, 4, 4, 5, 2, 3, 3, 6, 0, 1, 0, 5, 4, 5, 0, 1, 5, 5, 2, 3, 0, 1, 1, 5, 3, 6, 5, 6, 0, 0, 0, 6, 4, 0, 1, 1, 1, 0, 0, 6, 6, 3, 6, 3, 4, 4, 2, 1, 4, 5, 3, 0, 2, 5, 1, 5, 1, 2, 3, 0, 4, 2, 0, 3, 2, 0, 1, 4, 1, 3, 6, 4, 2, 5, 4, 1, 5, 4, 2, 5, 0, 6, 5, 6, 4, 4, 2, 2, 1, 4, 6, 5, 2, 4, 1, 2, 1, 4, 0, 3, 2, 6, 4, 5, 1, 2, 3, 6, 1, 0, 4, 6, 5, 3, 6, 2, 0, 0, 2, 1, 2, 3, 3, 4, 1, 4, 5, 0, 1, 5, 3, 3, 3, 0, 4, 0, 0, 6, 3, 3, 6, 1, 2, 6, 2, 2, 2, 2, 6, 4, 6, 6, 6, 4, 0, 0, 5, 5, 0, 4, 1, 0, 1, 1, 1, 3, 6, 0, 5, 4, 2, 2, 2, 0, 4, 1, 0, 0, 5, 2, 6, 5, 4, 5, 4, 6, 3, 1, 5, 6, 5, 3, 1, 4, 6, 2, 0, 0, 3, 4, 6, 3, 1, 4, 5, 6, 2, 6, 2, 4, 3, 1, 1, 0, 2, 0, 5, 1, 5, 2, 0, 1, 6, 0, 4, 2, 4, 1, 4, 4, 2, 3, 3, 3, 5, 2, 0, 1, 5, 2, 0, 2, 5, 0, 6, 3, 1, 1, 3, 6, 0, 3, 0, 6, 4, 4, 0, 4, 5, 1, 2, 3, 5, 3, 5, 4, 5, 0, 4, 5, 4, 1, 6, 5, 6, 0, 3, 4, 0, 1, 5, 1, 0, 3, 4, 1, 0, 6, 4, 6, 2, 3, 1, 0, 1, 2, 2, 2, 2, 5, 6, 4, 3, 6, 5, 0, 6, 1, 4, 2, 1, 4, 0, 2, 5, 4, 2, 1, 3, 6, 1, 5, 6, 2, 6, 4, 1, 4, 1, 4, 3, 3, 1, 4, 6, 4, 5, 4, 1, 4, 4, 6, 6, 2, 3, 3, 2, 6, 1, 3, 2, 2, 5, 5, 3, 0, 0, 4, 2, 3, 3, 2, 4, 4, 5, 4, 2, 1, 4, 3, 2, 6, 1, 3, 2, 0, 3, 0, 5, 2, 1, 6, 5, 4, 5, 6, 4, 0, 6, 0, 3, 6, 6, 6, 2, 6, 1, 2, 6, 6, 3, 4, 4, 6, 6, 3, 5, 5, 2, 3, 2, 4, 4, 0, 5, 6, 5, 1, 4, 4, 6, 4, 6, 2, 1, 4, 5, 5, 2, 4, 1, 2, 1, 0, 6, 5, 6, 0, 5, 2, 1, 0, 1, 5, 6, 6, 3, 0, 5, 0, 2, 2, 1, 1, 5, 3, 6, 3, 1, 3, 4, 0, 0]\n"
     ]
    },
    {
     "data": {
      "image/png": "[encoded data removed]",
      "text/plain": [
       "<Figure size 640x480 with 2 Axes>"
      ]
     },
     "metadata": {},
     "output_type": "display_data"
    }
   ],
   "source": [
    "# TODO: (1) learning curve plots, (2) confusion matrix\n",
    "test_accuracy, test_loss  = eval_mlp_classifier(trained_model, test_dataloader, loss_fn, True)"
   ]
  },
  {
   "cell_type": "markdown",
   "id": "53ae826e",
   "metadata": {},
   "source": [
    "\n",
    "\n",
    "\n",
    "## Useful references\n",
    "\n",
    "https://towardsdatascience.com/how-to-set-up-anaconda-and-jupyter-notebook-the-right-way-de3b7623ea4a  \n",
    "\n",
    "\n",
    "Pandas piping function: https://verve.com/blog/jupyter-notebooks/\n",
    "\n",
    "\n",
    "### \n",
    "\n",
    "https://stackoverflow.com/questions/20186344/importing-an-ipynb-file-from-another-ipynb-file  \n",
    "\n",
    "https://jupyter-notebook.readthedocs.io/en/stable/examples/Notebook/Importing%20Notebooks.html  \n",
    "\n",
    "\n",
    "###\n",
    "\n",
    "https://stackoverflow.com/questions/50307707/how-do-i-convert-a-pandas-dataframe-to-a-pytorch-tensor\n",
    "\n",
    "https://stackoverflow.com/questions/55724123/typeerror-cant-convert-np-ndarray-of-type-numpy-object\n",
    "\n",
    "https://stackoverflow.com/questions/56741087/how-to-fix-runtimeerror-expected-object-of-scalar-type-float-but-got-scalar-typ\n",
    "\n",
    "https://stackoverflow.com/questions/47488598/attributeerror-crossentropyloss-object-has-no-attribute-backward\n",
    "\n",
    "https://scikit-learn.org/stable/modules/generated/sklearn.preprocessing.LabelEncoder.html\n",
    "\n",
    "https://lightrun.com/answers/biocore-ntnu-pyranges-deprecation-of-nplong-in-numpy-120-in-merge-method\n"
   ]
  },
  {
   "cell_type": "code",
   "execution_count": null,
   "id": "30d5093b",
   "metadata": {},
   "outputs": [],
   "source": []
  }
 ],
 "metadata": {
  "kernelspec": {
   "display_name": "IDMC",
   "language": "python",
   "name": "python3"
  },
  "language_info": {
   "codemirror_mode": {
    "name": "ipython",
    "version": 3
   },
   "file_extension": ".py",
   "mimetype": "text/x-python",
   "name": "python",
   "nbconvert_exporter": "python",
   "pygments_lexer": "ipython3",
   "version": "3.10.9"
  },
  "toc": {
   "base_numbering": 1,
   "nav_menu": {},
   "number_sections": true,
   "sideBar": true,
   "skip_h1_title": false,
   "title_cell": "Table of Contents",
   "title_sidebar": "Contents",
   "toc_cell": false,
   "toc_position": {},
   "toc_section_display": true,
   "toc_window_display": false
  },
  "varInspector": {
   "cols": {
    "lenName": 16,
    "lenType": 16,
    "lenVar": 40
   },
   "kernels_config": {
    "python": {
     "delete_cmd_postfix": "",
     "delete_cmd_prefix": "del ",
     "library": "var_list.py",
     "varRefreshCmd": "print(var_dic_list())"
    },
    "r": {
     "delete_cmd_postfix": ") ",
     "delete_cmd_prefix": "rm(",
     "library": "var_list.r",
     "varRefreshCmd": "cat(var_dic_list()) "
    }
   },
   "types_to_exclude": [
    "module",
    "function",
    "builtin_function_or_method",
    "instance",
    "_Feature"
   ],
   "window_display": false
  },
  "vscode": {
   "interpreter": {
    "hash": "01277ed19dd0017932a54a8a0aaec2debdd7f379246510f558f4aa7f17b3bf32"
   }
  }
 },
 "nbformat": 4,
 "nbformat_minor": 5
}
